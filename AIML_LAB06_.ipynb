{
  "nbformat": 4,
  "nbformat_minor": 0,
  "metadata": {
    "colab": {
      "provenance": [],
      "include_colab_link": true
    },
    "kernelspec": {
      "name": "python3",
      "display_name": "Python 3"
    },
    "language_info": {
      "name": "python"
    }
  },
  "cells": [
    {
      "cell_type": "markdown",
      "metadata": {
        "id": "view-in-github",
        "colab_type": "text"
      },
      "source": [
        "<a href=\"https://colab.research.google.com/github/sathvikpatel0812/AIML-38/blob/main/AIML_LAB06_.ipynb\" target=\"_parent\"><img src=\"https://colab.research.google.com/assets/colab-badge.svg\" alt=\"Open In Colab\"/></a>"
      ]
    },
    {
      "cell_type": "markdown",
      "source": [
        "PART - 1\n"
      ],
      "metadata": {
        "id": "nzv2UCzDZJi5"
      }
    },
    {
      "cell_type": "code",
      "execution_count": null,
      "metadata": {
        "id": "wCPwLEHxWiDi"
      },
      "outputs": [],
      "source": [
        "# Part 1 – Importing required packages and preprocessing\n",
        "import pandas as pd\n",
        "from sklearn.preprocessing import StandardScaler\n",
        "from sklearn.model_selection import train_test_split\n",
        "from sklearn.neighbors import KNeighborsClassifier\n",
        "from sklearn.metrics import# Split the data into train and test sets\n",
        "X_train, X_test, y_train, y_test = train_test_split(df_scaled, df['target'], test_size=0.2, random_state=42)\n",
        " confusion_matrix, classification_report"
      ]
    },
    {
      "cell_type": "code",
      "source": [
        "df = pd.read_csv('/content/Classified_Data.txt')  # Change the file name as per your dataset\n"
      ],
      "metadata": {
        "id": "auB31-XPYZ7C"
      },
      "execution_count": null,
      "outputs": []
    },
    {
      "cell_type": "code",
      "source": [
        "print(\"Data types of each feature:\")\n",
        "print(df.dtypes)\n",
        "print()\n"
      ],
      "metadata": {
        "colab": {
          "base_uri": "https://localhost:8080/"
        },
        "id": "O5_4GX6yYe5m",
        "outputId": "4d2c94ef-490c-4183-8833-a8d6a3ca72e2"
      },
      "execution_count": null,
      "outputs": [
        {
          "output_type": "stream",
          "name": "stdout",
          "text": [
            "Data types of each feature:\n",
            "Unnamed: 0        int64\n",
            "WTT             float64\n",
            "PTI             float64\n",
            "EQW             float64\n",
            "SBI             float64\n",
            "LQE             float64\n",
            "QWG             float64\n",
            "FDJ             float64\n",
            "PJF             float64\n",
            "HQE             float64\n",
            "NXJ             float64\n",
            "TARGET CLASS      int64\n",
            "dtype: object\n",
            "\n"
          ]
        }
      ]
    },
    {
      "cell_type": "code",
      "source": [
        "# Generate a summary of the dataset for min, max, stddev, quartile values\n",
        "print(\"Summary of the dataset:\")\n",
        "print(df.describe(percentiles=[0.25, 0.5, 0.75, 0.90]))\n",
        "print()\n"
      ],
      "metadata": {
        "colab": {
          "base_uri": "https://localhost:8080/"
        },
        "id": "HdePxAn8YhCY",
        "outputId": "2ed57972-0d58-49bd-97d1-3a4d82f2196d"
      },
      "execution_count": null,
      "outputs": [
        {
          "output_type": "stream",
          "name": "stdout",
          "text": [
            "Summary of the dataset:\n",
            "        Unnamed: 0          WTT          PTI          EQW          SBI  \\\n",
            "count  1000.000000  1000.000000  1000.000000  1000.000000  1000.000000   \n",
            "mean    499.500000     0.949682     1.114303     0.834127     0.682099   \n",
            "std     288.819436     0.289635     0.257085     0.291554     0.229645   \n",
            "min       0.000000     0.174412     0.441398     0.170924     0.045027   \n",
            "25%     249.750000     0.742358     0.942071     0.615451     0.515010   \n",
            "50%     499.500000     0.940475     1.118486     0.813264     0.676835   \n",
            "75%     749.250000     1.163295     1.307904     1.028340     0.834317   \n",
            "90%     899.100000     1.336612     1.441901     1.223127     0.983470   \n",
            "max     999.000000     1.721779     1.833757     1.722725     1.634884   \n",
            "\n",
            "               LQE          QWG          FDJ          PJF          HQE  \\\n",
            "count  1000.000000  1000.000000  1000.000000  1000.000000  1000.000000   \n",
            "mean      1.032336     0.943534     0.963422     1.071960     1.158251   \n",
            "std       0.243413     0.256121     0.255118     0.288982     0.293738   \n",
            "min       0.315307     0.262389     0.295228     0.299476     0.365157   \n",
            "25%       0.870855     0.761064     0.784407     0.866306     0.934340   \n",
            "50%       1.035824     0.941502     0.945333     1.065500     1.165556   \n",
            "75%       1.198270     1.123060     1.134852     1.283156     1.383173   \n",
            "90%       1.341138     1.277552     1.306497     1.452713     1.535520   \n",
            "max       1.650050     1.666902     1.713342     1.785420     1.885690   \n",
            "\n",
            "               NXJ  TARGET CLASS  \n",
            "count  1000.000000    1000.00000  \n",
            "mean      1.362725       0.50000  \n",
            "std       0.204225       0.50025  \n",
            "min       0.639693       0.00000  \n",
            "25%       1.222623       0.00000  \n",
            "50%       1.375368       0.50000  \n",
            "75%       1.504832       1.00000  \n",
            "90%       1.618096       1.00000  \n",
            "max       1.893950       1.00000  \n",
            "\n"
          ]
        }
      ]
    },
    {
      "cell_type": "code",
      "source": [
        "# List the names of columns/features in the dataset\n",
        "print(\"Column names:\")\n",
        "print(df.columns)\n",
        "print()"
      ],
      "metadata": {
        "colab": {
          "base_uri": "https://localhost:8080/"
        },
        "id": "Usrn99Y5YkCt",
        "outputId": "95b37f06-a584-468f-c1f8-f3e9afae4cf7"
      },
      "execution_count": null,
      "outputs": [
        {
          "output_type": "stream",
          "name": "stdout",
          "text": [
            "Column names:\n",
            "Index(['Unnamed: 0', 'WTT', 'PTI', 'EQW', 'SBI', 'LQE', 'QWG', 'FDJ', 'PJF',\n",
            "       'HQE', 'NXJ', 'TARGET CLASS'],\n",
            "      dtype='object')\n",
            "\n"
          ]
        }
      ]
    },
    {
      "cell_type": "code",
      "source": [
        "# Scale the features using StandardScaler and transform the data\n",
        "scaler = StandardScaler()\n",
        "scaled_features = scaler.fit_transform(df.drop('TARGET CLASS', axis=1))\n",
        "df_scaled = pd.DataFrame(scaled_features, columns=df.columns[:-1])\n"
      ],
      "metadata": {
        "id": "Btf5gN2AYnP3"
      },
      "execution_count": null,
      "outputs": []
    },
    {
      "cell_type": "markdown",
      "source": [
        "PART - 2"
      ],
      "metadata": {
        "id": "t3aPcAJqY5zT"
      }
    },
    {
      "cell_type": "code",
      "source": [
        "# Split the data into train and test sets\n",
        "X_train, X_test, y_train, y_test = train_test_split(df_scaled, df['TARGET CLASS'], test_size=0.2, random_state=42)\n"
      ],
      "metadata": {
        "id": "VfKbRnLrZIt8"
      },
      "execution_count": null,
      "outputs": []
    },
    {
      "cell_type": "code",
      "source": [
        "# Apply the KNN Classifier model\n",
        "knn_classifier = KNeighborsClassifier(n_neighbors=5)  # You can adjust the number of neighbors\n",
        "knn_classifier.fit(X_train, y_train)\n"
      ],
      "metadata": {
        "colab": {
          "base_uri": "https://localhost:8080/",
          "height": 74
        },
        "id": "4agVBaOmZSo5",
        "outputId": "2d1350e7-f1b8-4a9c-a934-ceda19f9d303"
      },
      "execution_count": null,
      "outputs": [
        {
          "output_type": "execute_result",
          "data": {
            "text/plain": [
              "KNeighborsClassifier()"
            ],
            "text/html": [
              "<style>#sk-container-id-1 {color: black;background-color: white;}#sk-container-id-1 pre{padding: 0;}#sk-container-id-1 div.sk-toggleable {background-color: white;}#sk-container-id-1 label.sk-toggleable__label {cursor: pointer;display: block;width: 100%;margin-bottom: 0;padding: 0.3em;box-sizing: border-box;text-align: center;}#sk-container-id-1 label.sk-toggleable__label-arrow:before {content: \"▸\";float: left;margin-right: 0.25em;color: #696969;}#sk-container-id-1 label.sk-toggleable__label-arrow:hover:before {color: black;}#sk-container-id-1 div.sk-estimator:hover label.sk-toggleable__label-arrow:before {color: black;}#sk-container-id-1 div.sk-toggleable__content {max-height: 0;max-width: 0;overflow: hidden;text-align: left;background-color: #f0f8ff;}#sk-container-id-1 div.sk-toggleable__content pre {margin: 0.2em;color: black;border-radius: 0.25em;background-color: #f0f8ff;}#sk-container-id-1 input.sk-toggleable__control:checked~div.sk-toggleable__content {max-height: 200px;max-width: 100%;overflow: auto;}#sk-container-id-1 input.sk-toggleable__control:checked~label.sk-toggleable__label-arrow:before {content: \"▾\";}#sk-container-id-1 div.sk-estimator input.sk-toggleable__control:checked~label.sk-toggleable__label {background-color: #d4ebff;}#sk-container-id-1 div.sk-label input.sk-toggleable__control:checked~label.sk-toggleable__label {background-color: #d4ebff;}#sk-container-id-1 input.sk-hidden--visually {border: 0;clip: rect(1px 1px 1px 1px);clip: rect(1px, 1px, 1px, 1px);height: 1px;margin: -1px;overflow: hidden;padding: 0;position: absolute;width: 1px;}#sk-container-id-1 div.sk-estimator {font-family: monospace;background-color: #f0f8ff;border: 1px dotted black;border-radius: 0.25em;box-sizing: border-box;margin-bottom: 0.5em;}#sk-container-id-1 div.sk-estimator:hover {background-color: #d4ebff;}#sk-container-id-1 div.sk-parallel-item::after {content: \"\";width: 100%;border-bottom: 1px solid gray;flex-grow: 1;}#sk-container-id-1 div.sk-label:hover label.sk-toggleable__label {background-color: #d4ebff;}#sk-container-id-1 div.sk-serial::before {content: \"\";position: absolute;border-left: 1px solid gray;box-sizing: border-box;top: 0;bottom: 0;left: 50%;z-index: 0;}#sk-container-id-1 div.sk-serial {display: flex;flex-direction: column;align-items: center;background-color: white;padding-right: 0.2em;padding-left: 0.2em;position: relative;}#sk-container-id-1 div.sk-item {position: relative;z-index: 1;}#sk-container-id-1 div.sk-parallel {display: flex;align-items: stretch;justify-content: center;background-color: white;position: relative;}#sk-container-id-1 div.sk-item::before, #sk-container-id-1 div.sk-parallel-item::before {content: \"\";position: absolute;border-left: 1px solid gray;box-sizing: border-box;top: 0;bottom: 0;left: 50%;z-index: -1;}#sk-container-id-1 div.sk-parallel-item {display: flex;flex-direction: column;z-index: 1;position: relative;background-color: white;}#sk-container-id-1 div.sk-parallel-item:first-child::after {align-self: flex-end;width: 50%;}#sk-container-id-1 div.sk-parallel-item:last-child::after {align-self: flex-start;width: 50%;}#sk-container-id-1 div.sk-parallel-item:only-child::after {width: 0;}#sk-container-id-1 div.sk-dashed-wrapped {border: 1px dashed gray;margin: 0 0.4em 0.5em 0.4em;box-sizing: border-box;padding-bottom: 0.4em;background-color: white;}#sk-container-id-1 div.sk-label label {font-family: monospace;font-weight: bold;display: inline-block;line-height: 1.2em;}#sk-container-id-1 div.sk-label-container {text-align: center;}#sk-container-id-1 div.sk-container {/* jupyter's `normalize.less` sets `[hidden] { display: none; }` but bootstrap.min.css set `[hidden] { display: none !important; }` so we also need the `!important` here to be able to override the default hidden behavior on the sphinx rendered scikit-learn.org. See: https://github.com/scikit-learn/scikit-learn/issues/21755 */display: inline-block !important;position: relative;}#sk-container-id-1 div.sk-text-repr-fallback {display: none;}</style><div id=\"sk-container-id-1\" class=\"sk-top-container\"><div class=\"sk-text-repr-fallback\"><pre>KNeighborsClassifier()</pre><b>In a Jupyter environment, please rerun this cell to show the HTML representation or trust the notebook. <br />On GitHub, the HTML representation is unable to render, please try loading this page with nbviewer.org.</b></div><div class=\"sk-container\" hidden><div class=\"sk-item\"><div class=\"sk-estimator sk-toggleable\"><input class=\"sk-toggleable__control sk-hidden--visually\" id=\"sk-estimator-id-1\" type=\"checkbox\" checked><label for=\"sk-estimator-id-1\" class=\"sk-toggleable__label sk-toggleable__label-arrow\">KNeighborsClassifier</label><div class=\"sk-toggleable__content\"><pre>KNeighborsClassifier()</pre></div></div></div></div></div>"
            ]
          },
          "metadata": {},
          "execution_count": 10
        }
      ]
    },
    {
      "cell_type": "markdown",
      "source": [
        "PART - 3"
      ],
      "metadata": {
        "id": "cnOrMVfXZd2g"
      }
    },
    {
      "cell_type": "code",
      "source": [
        "# Generate the confusion matrix\n",
        "y_pred = knn_classifier.predict(X_test)\n",
        "conf_matrix = confusion_matrix(y_test, y_pred)\n",
        "print(\"Confusion Matrix:\")\n",
        "print(conf_matrix)\n",
        "print()"
      ],
      "metadata": {
        "colab": {
          "base_uri": "https://localhost:8080/"
        },
        "id": "7CSFDEplZb-k",
        "outputId": "49a87660-af4c-4801-b052-4ef247ab59aa"
      },
      "execution_count": null,
      "outputs": [
        {
          "output_type": "stream",
          "name": "stdout",
          "text": [
            "Confusion Matrix:\n",
            "[[92  6]\n",
            " [ 4 98]]\n",
            "\n"
          ]
        }
      ]
    },
    {
      "cell_type": "code",
      "source": [
        "# Generate the classification report\n",
        "class_report = classification_report(y_test, y_pred)\n",
        "print(\"Classification Report:\")\n",
        "print(class_report)"
      ],
      "metadata": {
        "colab": {
          "base_uri": "https://localhost:8080/"
        },
        "id": "rKHeWbFEZhgR",
        "outputId": "fda2ae01-0385-4946-b659-feb9d3f9d20d"
      },
      "execution_count": null,
      "outputs": [
        {
          "output_type": "stream",
          "name": "stdout",
          "text": [
            "Classification Report:\n",
            "              precision    recall  f1-score   support\n",
            "\n",
            "           0       0.96      0.94      0.95        98\n",
            "           1       0.94      0.96      0.95       102\n",
            "\n",
            "    accuracy                           0.95       200\n",
            "   macro avg       0.95      0.95      0.95       200\n",
            "weighted avg       0.95      0.95      0.95       200\n",
            "\n"
          ]
        }
      ]
    }
  ]
}